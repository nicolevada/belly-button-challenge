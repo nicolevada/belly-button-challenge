{
  "nbformat": 4,
  "nbformat_minor": 0,
  "metadata": {
    "colab": {
      "provenance": [],
      "toc_visible": true
    },
    "kernelspec": {
      "name": "python3",
      "display_name": "Python 3"
    },
    "language_info": {
      "name": "python"
    },
    "widgets": {
      "application/vnd.jupyter.widget-state+json": {
        "1b4f00ff1cf24b309fc187fc0d1f642e": {
          "model_module": "@jupyter-widgets/controls",
          "model_name": "DropdownModel",
          "model_module_version": "1.5.0",
          "state": {
            "_dom_classes": [],
            "_model_module": "@jupyter-widgets/controls",
            "_model_module_version": "1.5.0",
            "_model_name": "DropdownModel",
            "_options_labels": [
              "Sample 940",
              "Sample 941",
              "Sample 943",
              "Sample 944",
              "Sample 945",
              "Sample 946",
              "Sample 947",
              "Sample 948",
              "Sample 949",
              "Sample 950",
              "Sample 952",
              "Sample 953",
              "Sample 954",
              "Sample 955",
              "Sample 956",
              "Sample 958",
              "Sample 959",
              "Sample 960",
              "Sample 961",
              "Sample 962",
              "Sample 963",
              "Sample 964",
              "Sample 966",
              "Sample 967",
              "Sample 968",
              "Sample 969",
              "Sample 970",
              "Sample 971",
              "Sample 972",
              "Sample 973",
              "Sample 974",
              "Sample 975",
              "Sample 978",
              "Sample 1233",
              "Sample 1234",
              "Sample 1235",
              "Sample 1236",
              "Sample 1237",
              "Sample 1238",
              "Sample 1242",
              "Sample 1243",
              "Sample 1246",
              "Sample 1253",
              "Sample 1254",
              "Sample 1258",
              "Sample 1259",
              "Sample 1260",
              "Sample 1264",
              "Sample 1265",
              "Sample 1273",
              "Sample 1275",
              "Sample 1276",
              "Sample 1277",
              "Sample 1278",
              "Sample 1279",
              "Sample 1280",
              "Sample 1281",
              "Sample 1282",
              "Sample 1283",
              "Sample 1284",
              "Sample 1285",
              "Sample 1286",
              "Sample 1287",
              "Sample 1288",
              "Sample 1289",
              "Sample 1290",
              "Sample 1291",
              "Sample 1292",
              "Sample 1293",
              "Sample 1294",
              "Sample 1295",
              "Sample 1296",
              "Sample 1297",
              "Sample 1298",
              "Sample 1308",
              "Sample 1309",
              "Sample 1310",
              "Sample 1374",
              "Sample 1415",
              "Sample 1439",
              "Sample 1441",
              "Sample 1443",
              "Sample 1486",
              "Sample 1487",
              "Sample 1489",
              "Sample 1490",
              "Sample 1491",
              "Sample 1494",
              "Sample 1495",
              "Sample 1497",
              "Sample 1499",
              "Sample 1500",
              "Sample 1501",
              "Sample 1502",
              "Sample 1503",
              "Sample 1504",
              "Sample 1505",
              "Sample 1506",
              "Sample 1507",
              "Sample 1508",
              "Sample 1510",
              "Sample 1511",
              "Sample 1512",
              "Sample 1513",
              "Sample 1514",
              "Sample 1515",
              "Sample 1516",
              "Sample 1517",
              "Sample 1518",
              "Sample 1519",
              "Sample 1521",
              "Sample 1524",
              "Sample 1526",
              "Sample 1527",
              "Sample 1530",
              "Sample 1531",
              "Sample 1532",
              "Sample 1533",
              "Sample 1534",
              "Sample 1535",
              "Sample 1536",
              "Sample 1537",
              "Sample 1539",
              "Sample 1540",
              "Sample 1541",
              "Sample 1542",
              "Sample 1543",
              "Sample 1544",
              "Sample 1545",
              "Sample 1546",
              "Sample 1547",
              "Sample 1548",
              "Sample 1549",
              "Sample 1550",
              "Sample 1551",
              "Sample 1552",
              "Sample 1553",
              "Sample 1554",
              "Sample 1555",
              "Sample 1556",
              "Sample 1557",
              "Sample 1558",
              "Sample 1561",
              "Sample 1562",
              "Sample 1563",
              "Sample 1564",
              "Sample 1572",
              "Sample 1573",
              "Sample 1574",
              "Sample 1576",
              "Sample 1577",
              "Sample 1581",
              "Sample 1601"
            ],
            "_view_count": null,
            "_view_module": "@jupyter-widgets/controls",
            "_view_module_version": "1.5.0",
            "_view_name": "DropdownView",
            "description": "Select Sample:",
            "description_tooltip": null,
            "disabled": false,
            "index": 0,
            "layout": "IPY_MODEL_f7a44b01d10b480a9761231dd05a1dd4",
            "style": "IPY_MODEL_f43574b8ced24ee5b3868dd787534edc"
          }
        },
        "f7a44b01d10b480a9761231dd05a1dd4": {
          "model_module": "@jupyter-widgets/base",
          "model_name": "LayoutModel",
          "model_module_version": "1.2.0",
          "state": {
            "_model_module": "@jupyter-widgets/base",
            "_model_module_version": "1.2.0",
            "_model_name": "LayoutModel",
            "_view_count": null,
            "_view_module": "@jupyter-widgets/base",
            "_view_module_version": "1.2.0",
            "_view_name": "LayoutView",
            "align_content": null,
            "align_items": null,
            "align_self": null,
            "border": null,
            "bottom": null,
            "display": null,
            "flex": null,
            "flex_flow": null,
            "grid_area": null,
            "grid_auto_columns": null,
            "grid_auto_flow": null,
            "grid_auto_rows": null,
            "grid_column": null,
            "grid_gap": null,
            "grid_row": null,
            "grid_template_areas": null,
            "grid_template_columns": null,
            "grid_template_rows": null,
            "height": null,
            "justify_content": null,
            "justify_items": null,
            "left": null,
            "margin": null,
            "max_height": null,
            "max_width": null,
            "min_height": null,
            "min_width": null,
            "object_fit": null,
            "object_position": null,
            "order": null,
            "overflow": null,
            "overflow_x": null,
            "overflow_y": null,
            "padding": null,
            "right": null,
            "top": null,
            "visibility": null,
            "width": null
          }
        },
        "f43574b8ced24ee5b3868dd787534edc": {
          "model_module": "@jupyter-widgets/controls",
          "model_name": "DescriptionStyleModel",
          "model_module_version": "1.5.0",
          "state": {
            "_model_module": "@jupyter-widgets/controls",
            "_model_module_version": "1.5.0",
            "_model_name": "DescriptionStyleModel",
            "_view_count": null,
            "_view_module": "@jupyter-widgets/base",
            "_view_module_version": "1.2.0",
            "_view_name": "StyleView",
            "description_width": ""
          }
        }
      }
    }
  },
  "cells": [
    {
      "cell_type": "code",
      "execution_count": 1,
      "metadata": {
        "id": "DKe3sqHBivfm"
      },
      "outputs": [],
      "source": [
        "import json\n",
        "import requests\n",
        "import plotly.graph_objects as go"
      ]
    },
    {
      "cell_type": "code",
      "source": [
        "# Load data from JSON file\n",
        "url = \"https://2u-data-curriculum-team.s3.amazonaws.com/dataviz-classroom/v1.1/14-Interactive-Web-Visualizations/02-Homework/samples.json\"\n",
        "data = json.loads(requests.get(url).text)"
      ],
      "metadata": {
        "id": "HEVWyq--jub8"
      },
      "execution_count": 2,
      "outputs": []
    },
    {
      "cell_type": "code",
      "source": [
        "# Extract necessary data from the loaded JSON\n",
        "samples = data[\"samples\"]\n",
        "metadata = data[\"metadata\"]"
      ],
      "metadata": {
        "id": "Vw3irjI9kd2d"
      },
      "execution_count": 3,
      "outputs": []
    },
    {
      "cell_type": "code",
      "source": [
        "# Function to create bar chart\n",
        "def create_bar_chart(sample):\n",
        "    sample_data = next(item for item in samples if item[\"id\"] == sample)\n",
        "    top10_sample_values = sample_data[\"sample_values\"][:10][::-1]\n",
        "    top10_otu_ids = [f\"OTU {id}\" for id in sample_data[\"otu_ids\"][:10]][::-1]\n",
        "    top10_otu_labels = sample_data[\"otu_labels\"][:10][::-1]\n",
        "\n",
        "    fig = go.Figure(data=[go.Bar(\n",
        "        x=top10_sample_values,\n",
        "        y=top10_otu_ids,\n",
        "        text=top10_otu_labels,\n",
        "        orientation=\"h\"\n",
        "    )])\n",
        "\n",
        "    fig.update_layout(\n",
        "        title=\"Top 10 OTUs\",\n",
        "        xaxis=dict(title=\"Sample Values\"),\n",
        "        yaxis=dict(title=\"OTU IDs\")\n",
        "    )\n",
        "\n",
        "    fig.show()"
      ],
      "metadata": {
        "id": "Slg-2ZALlAe5"
      },
      "execution_count": 4,
      "outputs": []
    },
    {
      "cell_type": "code",
      "source": [
        "# Function to create bubble chart\n",
        "def create_bubble_chart(sample):\n",
        "    sample_data = next(item for item in samples if item[\"id\"] == sample)\n",
        "\n",
        "    fig = go.Figure(data=[go.Scatter(\n",
        "        x=sample_data[\"otu_ids\"],\n",
        "        y=sample_data[\"sample_values\"],\n",
        "        text=sample_data[\"otu_labels\"],\n",
        "        mode=\"markers\",\n",
        "        marker=dict(\n",
        "            size=sample_data[\"sample_values\"],\n",
        "            color=sample_data[\"otu_ids\"],\n",
        "            colorscale=\"Earth\"\n",
        "        )\n",
        "    )])\n",
        "\n",
        "    fig.update_layout(\n",
        "        title=\"OTU IDs vs Sample Values\",\n",
        "        xaxis=dict(title=\"OTU IDs\"),\n",
        "        yaxis=dict(title=\"Sample Values\")\n",
        "    )\n",
        "\n",
        "    fig.show()"
      ],
      "metadata": {
        "id": "w1RJM6FRlD7F"
      },
      "execution_count": 5,
      "outputs": []
    },
    {
      "cell_type": "code",
      "source": [
        "# Function to display sample metadata\n",
        "def display_metadata(sample):\n",
        "    metadata_entry = next(item for item in metadata if item[\"id\"] == sample)\n",
        "\n",
        "    for key, value in metadata_entry.items():\n",
        "        print(f\"{key}: {value}\")"
      ],
      "metadata": {
        "id": "LpZ5XbvrlKbM"
      },
      "execution_count": 6,
      "outputs": []
    },
    {
      "cell_type": "code",
      "source": [
        "from ipywidgets import widgets\n",
        "from IPython.display import display\n"
      ],
      "metadata": {
        "id": "FlYPx7DnliSM"
      },
      "execution_count": 8,
      "outputs": []
    },
    {
      "cell_type": "code",
      "source": [
        "# Dropdown menu\n",
        "dropdown = widgets.Dropdown(\n",
        "    options=[(f\"Sample {sample['id']}\", sample[\"id\"]) for sample in metadata],\n",
        "    description=\"Select Sample:\"\n",
        ")\n",
        "display(dropdown)"
      ],
      "metadata": {
        "colab": {
          "base_uri": "https://localhost:8080/",
          "height": 49,
          "referenced_widgets": [
            "1b4f00ff1cf24b309fc187fc0d1f642e",
            "f7a44b01d10b480a9761231dd05a1dd4",
            "f43574b8ced24ee5b3868dd787534edc"
          ]
        },
        "id": "c39TVg7_lkZX",
        "outputId": "f1629323-6376-4aa5-ef39-323a81170b7a"
      },
      "execution_count": 9,
      "outputs": [
        {
          "output_type": "display_data",
          "data": {
            "text/plain": [
              "Dropdown(description='Select Sample:', options=(('Sample 940', 940), ('Sample 941', 941), ('Sample 943', 943),…"
            ],
            "application/vnd.jupyter.widget-view+json": {
              "version_major": 2,
              "version_minor": 0,
              "model_id": "1b4f00ff1cf24b309fc187fc0d1f642e"
            }
          },
          "metadata": {}
        }
      ]
    },
    {
      "cell_type": "code",
      "source": [
        "# Event handler for dropdown selection change\n",
        "def on_change(change):\n",
        "    if change[\"type\"] == \"change\" and change[\"name\"] == \"value\":\n",
        "        sample = change[\"new\"]\n",
        "        create_bar_chart(sample)\n",
        "        create_bubble_chart(sample)\n",
        "        display_metadata(sample)\n",
        "\n",
        "dropdown.observe(on_change)"
      ],
      "metadata": {
        "id": "z1tlhkdsluc0"
      },
      "execution_count": 10,
      "outputs": []
    }
  ]
}